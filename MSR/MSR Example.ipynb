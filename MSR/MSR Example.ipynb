{
 "cells": [
  {
   "cell_type": "code",
   "execution_count": 1,
   "id": "7aef25fe",
   "metadata": {
    "ExecuteTime": {
     "end_time": "2023-10-03T12:31:14.133663Z",
     "start_time": "2023-10-03T12:31:13.570972Z"
    }
   },
   "outputs": [],
   "source": [
    "from DistilSR import *\n",
    "import numpy as np\n",
    "from tqdm import tqdm\n",
    "import pandas as pd\n",
    "from scipy.optimize import minimize\n",
    "import itertools\n",
    "from sklearn.model_selection import train_test_split\n",
    "from pmlb import fetch_data, regression_dataset_names\n",
    "from collections.abc import Iterable\n",
    "import random\n",
    "import warnings\n",
    "warnings.filterwarnings(\"ignore\")\n",
    "\n",
    "exp_set = get_exp_set(3)\n",
    "random.seed(0)\n",
    "synthetic_list = random.choices(sorted([i for i in list(exp_set) if i.count(\"R\")==4]), k=10)"
   ]
  },
  {
   "cell_type": "code",
   "execution_count": 2,
   "id": "226a20ed",
   "metadata": {
    "ExecuteTime": {
     "end_time": "2023-10-03T12:31:14.622336Z",
     "start_time": "2023-10-03T12:31:14.186973Z"
    }
   },
   "outputs": [],
   "source": [
    "def cost(x, xdata, ydata, lambda_string):\n",
    "    y_pred = eval(lambda_string)(x, xdata)\n",
    "    return np.mean(((y_pred - ydata))**2) \n",
    "\n",
    "def all_cost(x, xdata, ydata, lambda_string):\n",
    "    y_pred = eval(lambda_string)(x, xdata)\n",
    "    if lambda_string.count(\"xdata\")==1 or not isinstance(y_pred, Iterable):\n",
    "        y_pred = np.array([y_pred for i in range(len(ydata))])\n",
    "    y_pred = np.array([min(max(i,-9999),9999) for i in y_pred])\n",
    "    return [np.mean(np.abs(y_pred - ydata)), np.mean(((y_pred - ydata))**2)]\n",
    "\n",
    "def random_constant():\n",
    "    return np.random.randint(1, 31)/10\n",
    "\n",
    "def MSR(opt_type=\"BFGS\",dataset_name=0,random_state=0):\n",
    "    synthetic_eq = synthetic_list[dataset_name]\n",
    "    synthetic_var_count = synthetic_eq.count(\"R\")\n",
    "    random.seed(0)\n",
    "    np.random.seed(0)\n",
    "    const_index = 3\n",
    "    random.seed(random_state)\n",
    "    np.random.seed(random_state)\n",
    "    X = np.random.randint(1, 31, size=(100,synthetic_var_count-1))/10\n",
    "    idx = 0\n",
    "    for i in range(synthetic_var_count):\n",
    "        if i==const_index:\n",
    "            synthetic_eq = synthetic_eq.replace(\"R\",f\"{np.random.rand(1)*2+1}\", 1)\n",
    "        else:\n",
    "            synthetic_eq = synthetic_eq.replace(\"R\",f\"X[:,{idx}]\", 1)\n",
    "            idx+=1\n",
    "    y = eval(synthetic_eq)\n",
    "    y = np.array([min(max(i,-9999),9999) for i in y])\n",
    "    print(f\"GROUND TRUTH: {synthetic_eq}\")\n",
    "    train_X, test_X, train_y, test_y = train_test_split(X, y, random_state=random_state,test_size=0.25)\n",
    "    shuffle_idx = np.random.permutation(len(train_y))\n",
    "    train_X = train_X[shuffle_idx]\n",
    "    train_y = train_y[shuffle_idx]\n",
    "    master_list=[]\n",
    "    xdata = np.array(train_X).T\n",
    "    ydata = np.array(train_y)\n",
    "    xvalid = np.array(test_X).T\n",
    "    yvaliddata= np.array(test_y)\n",
    "    num_of_feature = xdata.shape[0]\n",
    "    for i in range(1):\n",
    "        mse_tuple = tuple()\n",
    "        for test_eq in tqdm(exp_set):\n",
    "            test_eq_orig = test_eq\n",
    "            R_count = test_eq.count(\"R\")\n",
    "            lambda_string = \"lambda x,xdata:\"\n",
    "            possible_combi_of_num = np.array(\n",
    "                list(itertools.product(range(num_of_feature + 1), repeat=R_count))\n",
    "            )\n",
    "            for combi_var in itertools.product(range(num_of_feature+1), repeat=R_count):\n",
    "                lambda_string = \"lambda x,xdata:\"\n",
    "                test_eq=test_eq_orig\n",
    "                index = 0\n",
    "                for i in combi_var:\n",
    "                    if i==num_of_feature:\n",
    "                        test_eq = test_eq.replace(\"R\", f\"x[{index}]\", 1)\n",
    "                        index+=1\n",
    "                    else:\n",
    "                        test_eq = test_eq.replace(\"R\", f\"xdata[{i}]\", 1)\n",
    "                lambda_string += test_eq\n",
    "                if index<1:\n",
    "                    index = 1\n",
    "                try:\n",
    "                    res = minimize(cost,\n",
    "                                   x0 = [random_constant() for i in range(index)],\n",
    "                                   args=(xdata,ydata,lambda_string),\n",
    "                                   method=opt_type,options={\"maxiter\":150})\n",
    "                    optimized_cost = cost(res.x, xdata, ydata, lambda_string)\n",
    "                    all_cost_list = all_cost(res.x, xvalid, yvaliddata, lambda_string)\n",
    "                    master_list.append((optimized_cost,test_eq_orig,test_eq,res.x,res.nit,*all_cost_list))\n",
    "                except RuntimeError:\n",
    "                    print(\"No fit found\")\n",
    "    return master_list"
   ]
  },
  {
   "cell_type": "code",
   "execution_count": 3,
   "id": "7261e067",
   "metadata": {
    "ExecuteTime": {
     "start_time": "2023-10-03T12:31:13.562Z"
    }
   },
   "outputs": [
    {
     "name": "stdout",
     "output_type": "stream",
     "text": [
      "GROUND TRUTH: Sub(Div(X[:,0],X[:,1]),Pow(X[:,2],[1.13833399]))\n"
     ]
    },
    {
     "name": "stderr",
     "output_type": "stream",
     "text": [
      "100%|████████████████████████████████████████████████████████████████████████████████| 151/151 [04:09<00:00,  1.65s/it]\n"
     ]
    },
    {
     "name": "stdout",
     "output_type": "stream",
     "text": [
      "GROUND TRUTH: Sub(Div(X[:,0],X[:,1]),Pow(X[:,2],[2.8774234]))\n"
     ]
    },
    {
     "name": "stderr",
     "output_type": "stream",
     "text": [
      "100%|████████████████████████████████████████████████████████████████████████████████| 151/151 [05:19<00:00,  2.11s/it]\n"
     ]
    },
    {
     "name": "stdout",
     "output_type": "stream",
     "text": [
      "GROUND TRUTH: Sub(Div(X[:,0],X[:,1]),Pow(X[:,2],[1.86477819]))\n"
     ]
    },
    {
     "name": "stderr",
     "output_type": "stream",
     "text": [
      "100%|████████████████████████████████████████████████████████████████████████████████| 151/151 [04:56<00:00,  1.97s/it]\n"
     ]
    },
    {
     "name": "stdout",
     "output_type": "stream",
     "text": [
      "Dataset-(100,100,100)-S1-1\n",
      "Top Recovered Equation by MSR: Sub(Div(xdata[0],xdata[1]),Pow(xdata[2],x[0]))\n",
      "TEST NRMSE: 6.2914323249391096e-09\n"
     ]
    }
   ],
   "source": [
    "dataset_name = 0 #S1\n",
    "for rand_num in range(3):\n",
    "    pd.DataFrame(MSR(dataset_name=dataset_name,random_state=rand_num)).to_csv(f'{dataset_name}_{rand_num}_excel.csv')\n",
    "print(\"Dataset-(100,100,100)-S1-1\")\n",
    "consolidated_df = pd.read_csv('Dataset-(100,100,100)-S1-1.csv')\n",
    "for rand_num_1 in range(1):\n",
    "    for rand_num_2 in range(3):\n",
    "        rand_num = rand_num_1*3+rand_num_2\n",
    "        df = pd.read_csv(f'{dataset_name}_{rand_num}_excel.csv')\n",
    "        if rand_num_2==0:\n",
    "            master_df = df.copy()\n",
    "        master_df[f\"MSE_{rand_num_2}\"] = df[\"0\"]\n",
    "        master_df[f\"MSE_{rand_num_2}_TEST\"] = df[\"6\"]\n",
    "    master_df[\"MSE_f1_TRAIN\"] = 3/(1/master_df[\"MSE_0\"]+1/master_df[\"MSE_1\"]+1/master_df[\"MSE_2\"])\n",
    "    master_df[\"MSE_AVERAGE_TEST\"] = (master_df[\"MSE_0_TEST\"]+master_df[\"MSE_1_TEST\"]+master_df[\"MSE_2_TEST\"])/3\n",
    "    print(f'Top Recovered Equation by MSR: {master_df.iloc[master_df[\"MSE_f1_TRAIN\"].idxmin()][3]}')\n",
    "    print(f'TEST NRMSE: {np.sqrt(master_df[\"MSE_AVERAGE_TEST\"][master_df[\"MSE_f1_TRAIN\"].idxmin()])/np.std(consolidated_df[\"y\"])}')"
   ]
  }
 ],
 "metadata": {
  "kernelspec": {
   "display_name": "Python 3 (ipykernel)",
   "language": "python",
   "name": "python3"
  },
  "language_info": {
   "codemirror_mode": {
    "name": "ipython",
    "version": 3
   },
   "file_extension": ".py",
   "mimetype": "text/x-python",
   "name": "python",
   "nbconvert_exporter": "python",
   "pygments_lexer": "ipython3",
   "version": "3.11.4"
  },
  "varInspector": {
   "cols": {
    "lenName": "24",
    "lenType": "24",
    "lenVar": 40
   },
   "kernels_config": {
    "python": {
     "delete_cmd_postfix": "",
     "delete_cmd_prefix": "del ",
     "library": "var_list.py",
     "varRefreshCmd": "print(var_dic_list())"
    },
    "r": {
     "delete_cmd_postfix": ") ",
     "delete_cmd_prefix": "rm(",
     "library": "var_list.r",
     "varRefreshCmd": "cat(var_dic_list()) "
    }
   },
   "oldHeight": 274,
   "position": {
    "height": "39.9937px",
    "left": "1725.44px",
    "right": "20px",
    "top": "115px",
    "width": "555.169px"
   },
   "types_to_exclude": [
    "module",
    "function",
    "builtin_function_or_method",
    "instance",
    "_Feature"
   ],
   "varInspector_section_display": "none",
   "window_display": true
  }
 },
 "nbformat": 4,
 "nbformat_minor": 5
}
