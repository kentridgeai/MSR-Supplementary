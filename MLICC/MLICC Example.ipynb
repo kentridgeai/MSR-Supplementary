{
 "cells": [
  {
   "cell_type": "code",
   "execution_count": 1,
   "metadata": {
    "ExecuteTime": {
     "end_time": "2023-10-23T04:41:32.606194Z",
     "start_time": "2023-10-23T04:41:31.619730Z"
    }
   },
   "outputs": [
    {
     "name": "stderr",
     "output_type": "stream",
     "text": [
      "cffi mode is CFFI_MODE.ANY\n",
      "Unable to determine R home: [WinError 2] The system cannot find the file specified\n",
      "R home found: C:\\Program Files\\R\\R-4.2.0\n",
      "R library path: \n",
      "LD_LIBRARY_PATH: \n",
      "Default options to initialize R: rpy2, --quiet, --no-save\n"
     ]
    }
   ],
   "source": [
    "from rpy2.robjects import DataFrame, FloatVector, IntVector\n",
    "from rpy2.robjects.packages import importr\n",
    "\n",
    "r_icc = importr(\"ICC\")\n",
    "\n",
    "import numpy as np\n",
    "import pandas as pd\n",
    "import random\n",
    "RS = 2020\n",
    "random.seed(RS)\n",
    "np.random.seed(RS)\n",
    "\n",
    "from KMeans import KMeansBalanced\n",
    "\n",
    "def pashuffle(string, perc=10):\n",
    "    random.seed(perc)\n",
    "    data = list(string)\n",
    "    for index, letter in enumerate(data):\n",
    "        if random.randrange(0, 100) < perc:\n",
    "            new_index = random.randrange(0, len(data))\n",
    "            data[index], data[new_index] = data[new_index], data[index]\n",
    "    return data"
   ]
  },
  {
   "cell_type": "code",
   "execution_count": 2,
   "metadata": {
    "ExecuteTime": {
     "end_time": "2023-10-23T04:42:16.796404Z",
     "start_time": "2023-10-23T04:41:32.606194Z"
    }
   },
   "outputs": [
    {
     "name": "stdout",
     "output_type": "stream",
     "text": [
      "ICC as noise increases: [0.047033163895090706, 0.05052984845996382, 0.04166031514586037, 0.04903900498379722, 0.012902912516671578, 0.005651439037378947, 0.024877559808263092, 0.00495096605449916, 0.0012720483555524419, -0.007523581401828761, -0.0034557122271565966, -0.004274843416706284, 0.01119381740221536, 0.008133327336461259, -0.003947137380977288, -0.007887359225973908, -0.007309327048256554, -0.0025378186133968948, -0.0048773089423377325, 0.01973452677188814, -0.007157701244577041]\n",
      "MLICC as noise increase: [0.7355786167977469, 0.5493173364057575, 0.4866467045427972, 0.39465943479490784, 0.2930496116312601, 0.2507454856036335, 0.22733763727863598, 0.17244890783409692, 0.15197902581326234, 0.16271781531661783, 0.03294769400888484, -0.0005388602044879289, 0.004075234285701945, 0.006534848605489455, 0.0015941797790157148, -0.001508757578448805, -0.013598386455152262, 0.0030265555564995814, -0.023091513923471533, -0.05844569057833602, -0.07818999155564763]\n"
     ]
    }
   ],
   "source": [
    "df1 = pd.read_csv(\"Dataset.csv\")\n",
    "old_list = []\n",
    "for shuffle_amount in range(0,101,5):\n",
    "    groups = pashuffle(df1[\"level\"],shuffle_amount)\n",
    "    values = df1[\"y\"]\n",
    "    df = DataFrame({\"groups\": IntVector(groups),\n",
    "                    \"values\": FloatVector(values)})\n",
    "    icc_res = r_icc.ICCbare(\"groups\", \"values\", data=df)\n",
    "    icc_val = icc_res[0]\n",
    "    old_list.append(icc_val)\n",
    "print(f\"ICC as noise increases: {old_list}\")\n",
    "X = np.array(df1.iloc[:,:2])\n",
    "cl2 = KMeansBalanced(k=len(df1)//15)\n",
    "y_pred, centroids = cl2.fit(X)\n",
    "new_list =[]\n",
    "for shuffle_amount in range(0,101,5):\n",
    "    df_temp = df1.copy()\n",
    "    df_temp[\"level\"] = pashuffle(df_temp[\"level\"],shuffle_amount)\n",
    "    icc_val_list=[]\n",
    "    for i in range(20):\n",
    "        df2 = df_temp[np.array(y_pred)==i]\n",
    "        groups = df2[\"level\"]\n",
    "        values = df2[\"y\"]\n",
    "        df = DataFrame({\"groups\": IntVector(groups),\n",
    "                        \"values\": FloatVector(values)})\n",
    "        icc_res = r_icc.ICCbare(\"groups\", \"values\", data=df)\n",
    "        icc_val = icc_res[0]\n",
    "        icc_val_list.append(icc_val)\n",
    "    new_list.append(np.average(icc_val_list))\n",
    "print(f\"MLICC as noise increase: {new_list}\")"
   ]
  }
 ],
 "metadata": {
  "kernelspec": {
   "display_name": "Python 3",
   "language": "python",
   "name": "python3"
  },
  "language_info": {
   "codemirror_mode": {
    "name": "ipython",
    "version": 3
   },
   "file_extension": ".py",
   "mimetype": "text/x-python",
   "name": "python",
   "nbconvert_exporter": "python",
   "pygments_lexer": "ipython3",
   "version": "3.8.8"
  },
  "varInspector": {
   "cols": {
    "lenName": "24",
    "lenType": "24",
    "lenVar": 40
   },
   "kernels_config": {
    "python": {
     "delete_cmd_postfix": "",
     "delete_cmd_prefix": "del ",
     "library": "var_list.py",
     "varRefreshCmd": "print(var_dic_list())"
    },
    "r": {
     "delete_cmd_postfix": ") ",
     "delete_cmd_prefix": "rm(",
     "library": "var_list.r",
     "varRefreshCmd": "cat(var_dic_list()) "
    }
   },
   "types_to_exclude": [
    "module",
    "function",
    "builtin_function_or_method",
    "instance",
    "_Feature"
   ],
   "window_display": true
  }
 },
 "nbformat": 4,
 "nbformat_minor": 2
}
